{
 "cells": [
  {
   "cell_type": "code",
   "execution_count": 16,
   "metadata": {},
   "outputs": [
    {
     "ename": "ImportError",
     "evalue": "cannot import name 'render_site' from 'IPYNBrenderer' (c:\\Projects-Vs\\Project-ipynb\\env\\Lib\\site-packages\\project_ipynb-0.0.1-py3.12.egg\\IPYNBrenderer\\__init__.py)",
     "output_type": "error",
     "traceback": [
      "\u001b[1;31m---------------------------------------------------------------------------\u001b[0m",
      "\u001b[1;31mImportError\u001b[0m                               Traceback (most recent call last)",
      "Cell \u001b[1;32mIn[16], line 1\u001b[0m\n\u001b[1;32m----> 1\u001b[0m \u001b[38;5;28;01mfrom\u001b[39;00m \u001b[38;5;21;01mIPYNBrenderer\u001b[39;00m \u001b[38;5;28;01mimport\u001b[39;00m render_site\n\u001b[0;32m      4\u001b[0m render_site(\u001b[38;5;124m\"\u001b[39m\u001b[38;5;124mhttps://www.youtube.com/watch?v=zdt9Qh6XMe0&t=952s\u001b[39m\u001b[38;5;124m\"\u001b[39m)\n",
      "\u001b[1;31mImportError\u001b[0m: cannot import name 'render_site' from 'IPYNBrenderer' (c:\\Projects-Vs\\Project-ipynb\\env\\Lib\\site-packages\\project_ipynb-0.0.1-py3.12.egg\\IPYNBrenderer\\__init__.py)"
     ]
    }
   ],
   "source": [
    "from IPYNBrenderer import render_site\n",
    "\n",
    "\n",
    "render_site(\"https://www.youtube.com/watch?v=zdt9Qh6XMe0&t=952s\")\n",
    "\n"
   ]
  },
  {
   "cell_type": "code",
   "execution_count": null,
   "metadata": {},
   "outputs": [],
   "source": []
  }
 ],
 "metadata": {
  "language_info": {
   "name": "python"
  }
 },
 "nbformat": 4,
 "nbformat_minor": 2
}
